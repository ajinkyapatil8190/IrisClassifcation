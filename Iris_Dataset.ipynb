{
  "cells": [
    {
      "metadata": {
        "_uuid": "e0db02d257c6bb6631773d9bcd03ff022e25649a"
      },
      "cell_type": "markdown",
      "source": "<img src=\"http://s5047.pcdn.co/wp-content/uploads/2015/04/iris_petal_sepal.png\">\n"
    },
    {
      "metadata": {
        "_uuid": "3c23607dc3ccb91848089096ccfd7620666903ae"
      },
      "cell_type": "markdown",
      "source": "The Iris dataset was used in R.A. Fisher's classic 1936 paper, The Use of Multiple Measurements in Taxonomic Problems, and can also be found on the UCI Machine Learning Repository.\n\nIt includes three iris species with 50 samples each as well as some properties about each flower. One flower species is linearly separable from the other two, but the other two are not linearly separable from each other.\n\nThe link for dataset - https://www.kaggle.com/uciml/iris"
    },
    {
      "metadata": {
        "_kg_hide-input": true,
        "trusted": true,
        "_uuid": "ab3c2f7c07531992dd024b7d1df6997ba1a251b3"
      },
      "cell_type": "code",
      "source": "import numpy as np\nimport random\nimport pandas as pd\nfrom pandas.tools import plotting\nimport seaborn as sns\nimport matplotlib.pyplot as plt\n%matplotlib inline\n\nimport plotly.offline as py\nfrom plotly.offline import init_notebook_mode, iplot\nimport plotly.graph_objs as go\nfrom plotly import tools\ninit_notebook_mode(connected=True)  \nimport plotly.figure_factory as ff\n\nfrom sklearn.model_selection import train_test_split\nfrom sklearn.linear_model import LogisticRegression\nfrom sklearn.svm import SVC\nfrom sklearn.naive_bayes import GaussianNB\nfrom sklearn.tree import DecisionTreeClassifier\nfrom sklearn.ensemble import RandomForestClassifier, ExtraTreesClassifier\nfrom sklearn.neighbors import KNeighborsClassifier\n# from lightgbm import LGBMClassifier\nfrom sklearn.metrics import  accuracy_score\n\nimport xgboost as xgb\nfrom catboost import CatBoostClassifier\n\nfrom sklearn.preprocessing import StandardScaler, LabelBinarizer\n# auxiliary function\nfrom sklearn.preprocessing import LabelEncoder\ndef random_colors(number_of_colors):\n    color = [\"#\"+''.join([random.choice('0123456789ABCDEF') for j in range(6)])\n                 for i in range(number_of_colors)]\n    return color\n\nimport warnings\nwarnings.filterwarnings('ignore')",
      "execution_count": 1,
      "outputs": [
        {
          "output_type": "display_data",
          "data": {
            "text/html": "<script>requirejs.config({paths: { 'plotly': ['https://cdn.plot.ly/plotly-latest.min']},});if(!window.Plotly) {{require(['plotly'],function(plotly) {window.Plotly=plotly;});}}</script>",
            "text/vnd.plotly.v1+html": "<script>requirejs.config({paths: { 'plotly': ['https://cdn.plot.ly/plotly-latest.min']},});if(!window.Plotly) {{require(['plotly'],function(plotly) {window.Plotly=plotly;});}}</script>"
          },
          "metadata": {}
        }
      ]
    },
    {
      "metadata": {
        "_uuid": "cc720b9cb2ab8ee436074089b4d6d74fc5b8f882"
      },
      "cell_type": "markdown",
      "source": "Load the dataset in memory using pandas library."
    },
    {
      "metadata": {
        "_kg_hide-input": true,
        "trusted": true,
        "_uuid": "0caff7f827cd7a8a0352992e2a80d42fdb8d26dc"
      },
      "cell_type": "code",
      "source": "df = pd.read_csv('../input/Iris.csv')\ntable = ff.create_table(df.head())",
      "execution_count": 2,
      "outputs": []
    },
    {
      "metadata": {
        "trusted": true,
        "_uuid": "bc136f6f485d14579bcb3bb41c691b288d534b41"
      },
      "cell_type": "code",
      "source": "df.head()",
      "execution_count": 3,
      "outputs": [
        {
          "output_type": "execute_result",
          "execution_count": 3,
          "data": {
            "text/plain": "   Id  SepalLengthCm     ...       PetalWidthCm      Species\n0   1            5.1     ...                0.2  Iris-setosa\n1   2            4.9     ...                0.2  Iris-setosa\n2   3            4.7     ...                0.2  Iris-setosa\n3   4            4.6     ...                0.2  Iris-setosa\n4   5            5.0     ...                0.2  Iris-setosa\n\n[5 rows x 6 columns]",
            "text/html": "<div>\n<style scoped>\n    .dataframe tbody tr th:only-of-type {\n        vertical-align: middle;\n    }\n\n    .dataframe tbody tr th {\n        vertical-align: top;\n    }\n\n    .dataframe thead th {\n        text-align: right;\n    }\n</style>\n<table border=\"1\" class=\"dataframe\">\n  <thead>\n    <tr style=\"text-align: right;\">\n      <th></th>\n      <th>Id</th>\n      <th>SepalLengthCm</th>\n      <th>SepalWidthCm</th>\n      <th>PetalLengthCm</th>\n      <th>PetalWidthCm</th>\n      <th>Species</th>\n    </tr>\n  </thead>\n  <tbody>\n    <tr>\n      <th>0</th>\n      <td>1</td>\n      <td>5.1</td>\n      <td>3.5</td>\n      <td>1.4</td>\n      <td>0.2</td>\n      <td>Iris-setosa</td>\n    </tr>\n    <tr>\n      <th>1</th>\n      <td>2</td>\n      <td>4.9</td>\n      <td>3.0</td>\n      <td>1.4</td>\n      <td>0.2</td>\n      <td>Iris-setosa</td>\n    </tr>\n    <tr>\n      <th>2</th>\n      <td>3</td>\n      <td>4.7</td>\n      <td>3.2</td>\n      <td>1.3</td>\n      <td>0.2</td>\n      <td>Iris-setosa</td>\n    </tr>\n    <tr>\n      <th>3</th>\n      <td>4</td>\n      <td>4.6</td>\n      <td>3.1</td>\n      <td>1.5</td>\n      <td>0.2</td>\n      <td>Iris-setosa</td>\n    </tr>\n    <tr>\n      <th>4</th>\n      <td>5</td>\n      <td>5.0</td>\n      <td>3.6</td>\n      <td>1.4</td>\n      <td>0.2</td>\n      <td>Iris-setosa</td>\n    </tr>\n  </tbody>\n</table>\n</div>"
          },
          "metadata": {}
        }
      ]
    },
    {
      "metadata": {
        "_kg_hide-input": true,
        "trusted": true,
        "_uuid": "1179c41df2d7a6e61012afbeab13b4cb97003724"
      },
      "cell_type": "code",
      "source": "df.info()",
      "execution_count": 4,
      "outputs": [
        {
          "output_type": "stream",
          "text": "<class 'pandas.core.frame.DataFrame'>\nRangeIndex: 150 entries, 0 to 149\nData columns (total 6 columns):\nId               150 non-null int64\nSepalLengthCm    150 non-null float64\nSepalWidthCm     150 non-null float64\nPetalLengthCm    150 non-null float64\nPetalWidthCm     150 non-null float64\nSpecies          150 non-null object\ndtypes: float64(4), int64(1), object(1)\nmemory usage: 7.1+ KB\n",
          "name": "stdout"
        }
      ]
    },
    {
      "metadata": {
        "_uuid": "d94cacaeb20745de52b44cecadb9f124bba6ede0"
      },
      "cell_type": "markdown",
      "source": "so there is no null values available in the data set."
    },
    {
      "metadata": {
        "_uuid": "00fb91122216780bf8fbd66c2a13cee1eddfade0"
      },
      "cell_type": "markdown",
      "source": " **Visualization of the Dataset**"
    },
    {
      "metadata": {
        "_uuid": "3771de617effaadbf899a4bcbf7db24ec45e9402"
      },
      "cell_type": "markdown",
      "source": "given the coloums are<br>\nSepalLengthCm<br>\nSepalWidthCm<br>\nPetalLengthCm<br>\nPetalWidthCm<br>\nSpecies<br>"
    },
    {
      "metadata": {
        "_uuid": "4c54df7ef24e7d9e75fb6f2e6b137ef086a06319"
      },
      "cell_type": "markdown",
      "source": "**Types of Species**"
    },
    {
      "metadata": {
        "_kg_hide-input": true,
        "trusted": true,
        "_uuid": "ceea7a2606503e6afa020ec014be2efd989fd9d4"
      },
      "cell_type": "code",
      "source": "Species = df['Species'].unique()\nSpecies",
      "execution_count": 5,
      "outputs": [
        {
          "output_type": "execute_result",
          "execution_count": 5,
          "data": {
            "text/plain": "array(['Iris-setosa', 'Iris-versicolor', 'Iris-virginica'], dtype=object)"
          },
          "metadata": {}
        }
      ]
    },
    {
      "metadata": {
        "_uuid": "3deeea05193d2bff16945fa5eee75f57144ecf06"
      },
      "cell_type": "markdown",
      "source": "So there are three types of species \nIris-setosa<br/>\nIris-versicolor<br/>\nIris-virginica<br/>"
    },
    {
      "metadata": {
        "_uuid": "7e7c935c6749f76b8bb619b1a629861660d5878d"
      },
      "cell_type": "markdown",
      "source": "Corelation between features, They seem pretty independent."
    },
    {
      "metadata": {
        "_kg_hide-input": true,
        "trusted": true,
        "_uuid": "47326e3e9bc656c6dbf3abffaddd8464180ba585"
      },
      "cell_type": "code",
      "source": "corelation = df.corr()\ndata = [go.Heatmap(z = np.array(corelation.values),\n                   x = np.array(corelation.columns),\n                   y = np.array(corelation.columns),\n                     colorscale='Blackbody',)\n          ]\npy.iplot(data)",
      "execution_count": 6,
      "outputs": [
        {
          "output_type": "display_data",
          "data": {
            "application/vnd.plotly.v1+json": {
              "data": [
                {
                  "colorscale": "Blackbody",
                  "x": [
                    "Id",
                    "SepalLengthCm",
                    "SepalWidthCm",
                    "PetalLengthCm",
                    "PetalWidthCm"
                  ],
                  "y": [
                    "Id",
                    "SepalLengthCm",
                    "SepalWidthCm",
                    "PetalLengthCm",
                    "PetalWidthCm"
                  ],
                  "z": [
                    [
                      1,
                      0.7166762728539001,
                      -0.397728811465928,
                      0.8827473181390559,
                      0.8997585770933502
                    ],
                    [
                      0.7166762728539001,
                      1,
                      -0.10936924995064935,
                      0.8717541573048719,
                      0.8179536333691635
                    ],
                    [
                      -0.397728811465928,
                      -0.10936924995064935,
                      1,
                      -0.42051609640115484,
                      -0.3565440896138055
                    ],
                    [
                      0.8827473181390559,
                      0.8717541573048719,
                      -0.42051609640115484,
                      1,
                      0.9627570970509667
                    ],
                    [
                      0.8997585770933502,
                      0.8179536333691635,
                      -0.3565440896138055,
                      0.9627570970509667,
                      1
                    ]
                  ],
                  "type": "heatmap",
                  "uid": "6f8241d2-c2fc-11e8-94b0-0242ac130002"
                }
              ],
              "layout": {}
            },
            "text/html": "<div id=\"85e49837-a9c0-41a6-84ed-77c53dffd250\" style=\"height: 525px; width: 100%;\" class=\"plotly-graph-div\"></div><script type=\"text/javascript\">require([\"plotly\"], function(Plotly) { window.PLOTLYENV=window.PLOTLYENV || {};window.PLOTLYENV.BASE_URL=\"https://plot.ly\";Plotly.newPlot(\"85e49837-a9c0-41a6-84ed-77c53dffd250\", [{\"colorscale\": \"Blackbody\", \"x\": [\"Id\", \"SepalLengthCm\", \"SepalWidthCm\", \"PetalLengthCm\", \"PetalWidthCm\"], \"y\": [\"Id\", \"SepalLengthCm\", \"SepalWidthCm\", \"PetalLengthCm\", \"PetalWidthCm\"], \"z\": [[1.0, 0.7166762728539001, -0.397728811465928, 0.8827473181390559, 0.8997585770933502], [0.7166762728539001, 1.0, -0.10936924995064935, 0.8717541573048719, 0.8179536333691635], [-0.397728811465928, -0.10936924995064935, 1.0, -0.42051609640115484, -0.3565440896138055], [0.8827473181390559, 0.8717541573048719, -0.42051609640115484, 1.0, 0.9627570970509667], [0.8997585770933502, 0.8179536333691635, -0.3565440896138055, 0.9627570970509667, 1.0]], \"type\": \"heatmap\", \"uid\": \"6f84c89e-c2fc-11e8-94b0-0242ac130002\"}], {}, {\"showLink\": true, \"linkText\": \"Export to plot.ly\"})});</script>",
            "text/vnd.plotly.v1+html": "<div id=\"85e49837-a9c0-41a6-84ed-77c53dffd250\" style=\"height: 525px; width: 100%;\" class=\"plotly-graph-div\"></div><script type=\"text/javascript\">require([\"plotly\"], function(Plotly) { window.PLOTLYENV=window.PLOTLYENV || {};window.PLOTLYENV.BASE_URL=\"https://plot.ly\";Plotly.newPlot(\"85e49837-a9c0-41a6-84ed-77c53dffd250\", [{\"colorscale\": \"Blackbody\", \"x\": [\"Id\", \"SepalLengthCm\", \"SepalWidthCm\", \"PetalLengthCm\", \"PetalWidthCm\"], \"y\": [\"Id\", \"SepalLengthCm\", \"SepalWidthCm\", \"PetalLengthCm\", \"PetalWidthCm\"], \"z\": [[1.0, 0.7166762728539001, -0.397728811465928, 0.8827473181390559, 0.8997585770933502], [0.7166762728539001, 1.0, -0.10936924995064935, 0.8717541573048719, 0.8179536333691635], [-0.397728811465928, -0.10936924995064935, 1.0, -0.42051609640115484, -0.3565440896138055], [0.8827473181390559, 0.8717541573048719, -0.42051609640115484, 1.0, 0.9627570970509667], [0.8997585770933502, 0.8179536333691635, -0.3565440896138055, 0.9627570970509667, 1.0]], \"type\": \"heatmap\", \"uid\": \"6f84c89e-c2fc-11e8-94b0-0242ac130002\"}], {}, {\"showLink\": true, \"linkText\": \"Export to plot.ly\"})});</script>"
          },
          "metadata": {}
        }
      ]
    },
    {
      "metadata": {
        "_uuid": "6dd6113a725c65cd882b9694c928ae50cf2108c8"
      },
      "cell_type": "markdown",
      "source": "Lets start with some traditional ML."
    },
    {
      "metadata": {
        "trusted": true,
        "_uuid": "174f80946174bd6bc0ba64bfebf6a5c8fac36db8"
      },
      "cell_type": "code",
      "source": "x = df[['SepalLengthCm','SepalWidthCm','PetalLengthCm','PetalWidthCm']]\ny = df['Species']",
      "execution_count": 7,
      "outputs": []
    },
    {
      "metadata": {
        "trusted": true,
        "_uuid": "6150c9fdda1b523ba908271960aa4f6508bffe6d"
      },
      "cell_type": "code",
      "source": "encoder = LabelEncoder()\ny = encoder.fit_transform(y)",
      "execution_count": 8,
      "outputs": []
    },
    {
      "metadata": {
        "trusted": true,
        "_uuid": "8c130a4ad47d1336614303a58d21b3a498b203e2"
      },
      "cell_type": "code",
      "source": "y",
      "execution_count": 9,
      "outputs": [
        {
          "output_type": "execute_result",
          "execution_count": 9,
          "data": {
            "text/plain": "array([0, 0, 0, 0, 0, 0, 0, 0, 0, 0, 0, 0, 0, 0, 0, 0, 0, 0, 0, 0, 0, 0,\n       0, 0, 0, 0, 0, 0, 0, 0, 0, 0, 0, 0, 0, 0, 0, 0, 0, 0, 0, 0, 0, 0,\n       0, 0, 0, 0, 0, 0, 1, 1, 1, 1, 1, 1, 1, 1, 1, 1, 1, 1, 1, 1, 1, 1,\n       1, 1, 1, 1, 1, 1, 1, 1, 1, 1, 1, 1, 1, 1, 1, 1, 1, 1, 1, 1, 1, 1,\n       1, 1, 1, 1, 1, 1, 1, 1, 1, 1, 1, 1, 2, 2, 2, 2, 2, 2, 2, 2, 2, 2,\n       2, 2, 2, 2, 2, 2, 2, 2, 2, 2, 2, 2, 2, 2, 2, 2, 2, 2, 2, 2, 2, 2,\n       2, 2, 2, 2, 2, 2, 2, 2, 2, 2, 2, 2, 2, 2, 2, 2, 2, 2])"
          },
          "metadata": {}
        }
      ]
    },
    {
      "metadata": {
        "trusted": true,
        "_uuid": "b1133179fff6a668edc493033557b4ab0dbbc65a"
      },
      "cell_type": "markdown",
      "source": "As you can see Iris-setosa Iris-versicolor Iris-virginica are converted to 0, 1, 2 respectively.\nFirst we are splitting the data set into training data and testing data which is 7:3 ratio. "
    },
    {
      "metadata": {
        "trusted": true,
        "_uuid": "e95d548a7f9a3fbef363cf50060375e3bd4b2def"
      },
      "cell_type": "code",
      "source": "x_train, x_test, y_train, y_test = train_test_split(x, y, test_size = 0.2, random_state = 42)",
      "execution_count": 10,
      "outputs": []
    },
    {
      "metadata": {
        "_uuid": "a429c38170278cbc2b6220b9e7b2cdcf97104c75"
      },
      "cell_type": "markdown",
      "source": "**List of algorithms**"
    },
    {
      "metadata": {
        "trusted": true,
        "_uuid": "a37b694d493d259be10a23e1123f2dd0a349e12f"
      },
      "cell_type": "markdown",
      "source": "Since it is a classification problem we will be using<br>\nLogistic regression<br>\nDecision tree<br>\nKNN<br>\nSVM<br>\nNaive Bayes Classification<br>\nRandom forest<br>\nGBM<br>\nLigthGBM<br>"
    },
    {
      "metadata": {
        "trusted": true,
        "_uuid": "b222fe6d3fc4d877e3d428d6a2ff8a5d29b2c528"
      },
      "cell_type": "markdown",
      "source": "**Logistic regression**"
    },
    {
      "metadata": {
        "trusted": true,
        "_uuid": "ce27be1c4fe5918c150798b398d3004969b5ba0f"
      },
      "cell_type": "code",
      "source": "lr_model = LogisticRegression()\nlr_model.fit(x_train,y_train)\nlr_predict = lr_model.predict(x_test)\nprint('Logistic Regression - ',accuracy_score(lr_predict,y_test))",
      "execution_count": 11,
      "outputs": [
        {
          "output_type": "stream",
          "text": "Logistic Regression -  1.0\n",
          "name": "stdout"
        }
      ]
    },
    {
      "metadata": {
        "_uuid": "67fc07be60779c31c2ada8c725289d8ef943c1bd"
      },
      "cell_type": "markdown",
      "source": "**SVM**"
    },
    {
      "metadata": {
        "trusted": true,
        "_uuid": "9c86b283ce845304587a40a9e92e22130b43caee"
      },
      "cell_type": "code",
      "source": "svm_model = SVC(kernel='linear')\nsvm_model.fit(x_train,y_train)\nsvc_predict = svm_model.predict(x_test)\nprint('SVM - ',accuracy_score(lr_predict,y_test))",
      "execution_count": 12,
      "outputs": [
        {
          "output_type": "stream",
          "text": "SVM -  1.0\n",
          "name": "stdout"
        }
      ]
    },
    {
      "metadata": {
        "_uuid": "4e7abe757465fb5904e59acf6d5c49f37ff0e740"
      },
      "cell_type": "markdown",
      "source": "**Naive Bayes Classifier**"
    },
    {
      "metadata": {
        "trusted": true,
        "_uuid": "ad312dc9438ae6a0afde56012bf3e101064373fe"
      },
      "cell_type": "code",
      "source": "nb_model = GaussianNB()\nnb_model.fit(x_train,y_train)\nnb_predict = nb_model.predict(x_test)\nprint('Naive bayes - ',accuracy_score(nb_predict,y_test))",
      "execution_count": 13,
      "outputs": [
        {
          "output_type": "stream",
          "text": "Naive bayes -  1.0\n",
          "name": "stdout"
        }
      ]
    },
    {
      "metadata": {
        "_uuid": "4dda5f1d31e579cf25e2c18175cae01704053e76"
      },
      "cell_type": "markdown",
      "source": "**Decision Tree**"
    },
    {
      "metadata": {
        "trusted": true,
        "_uuid": "567f22ed14b3fb568c4a85af9b306214108de7f4"
      },
      "cell_type": "code",
      "source": "dt_model = DecisionTreeClassifier(max_leaf_nodes=3)\ndt_model.fit(x_train,y_train)\ndt_predict = dt_model.predict(x_test)\nprint('Decision Tree - ',accuracy_score(dt_predict,y_test))",
      "execution_count": 14,
      "outputs": [
        {
          "output_type": "stream",
          "text": "Decision Tree -  0.9666666666666667\n",
          "name": "stdout"
        }
      ]
    },
    {
      "metadata": {
        "_uuid": "42d55936cf6cbaa54948a268c9e243c733ce39cd"
      },
      "cell_type": "markdown",
      "source": "**Random Forest Classifier**"
    },
    {
      "metadata": {
        "trusted": true,
        "_uuid": "4aeb3ce119c947d44b85dd398afaeb21504a2221"
      },
      "cell_type": "code",
      "source": "rfc_model = RandomForestClassifier(max_depth=3)\nrfc_model.fit(x_train,y_train)\nrfc_predict = rfc_model.predict(x_test)\nprint('Random Forest - ',accuracy_score(rfc_predict,y_test))",
      "execution_count": 15,
      "outputs": [
        {
          "output_type": "stream",
          "text": "Random Forest -  1.0\n",
          "name": "stdout"
        }
      ]
    },
    {
      "metadata": {
        "_uuid": "46dc2d7de36b297dad987cdc98bb9cf41c29efd7"
      },
      "cell_type": "markdown",
      "source": "**Extra Trees Classifier**"
    },
    {
      "metadata": {
        "trusted": true,
        "_uuid": "fc1c65b5b7b1eabbb09db35cec298b29ae00ec51"
      },
      "cell_type": "code",
      "source": "etc_model = ExtraTreesClassifier()\netc_model.fit(x_train,y_train)\netc_predict = etc_model.predict(x_test)\nprint('Extra Tree Classifier - ',accuracy_score(etc_predict,y_test))",
      "execution_count": 16,
      "outputs": [
        {
          "output_type": "stream",
          "text": "Extra Tree Classifier -  0.9666666666666667\n",
          "name": "stdout"
        }
      ]
    },
    {
      "metadata": {
        "_uuid": "f575634697a8321b9fbc53a69025b8d21baa3a1c"
      },
      "cell_type": "markdown",
      "source": "**KNN**"
    },
    {
      "metadata": {
        "trusted": true,
        "_uuid": "94a5fe5f4c50210bbc141d75cba423f0dde1b3b2"
      },
      "cell_type": "code",
      "source": "knn_model = KNeighborsClassifier(n_neighbors=3)\nknn_model.fit(x_train,y_train)\nknn_predict = knn_model.predict(x_test)\nprint('knn - ',accuracy_score(knn_predict,y_test))",
      "execution_count": 17,
      "outputs": [
        {
          "output_type": "stream",
          "text": "knn -  1.0\n",
          "name": "stdout"
        }
      ]
    },
    {
      "metadata": {
        "_uuid": "4705805636047c4ce43898c0c36259407f543a0d"
      },
      "cell_type": "markdown",
      "source": "**Deep Learning**"
    },
    {
      "metadata": {
        "_uuid": "68b1d94d10fe279961e28e6bba90f27baeceebe2"
      },
      "cell_type": "markdown",
      "source": "Best place to understand deep learning.\nPlease follow the blog\nhttps://machinelearningmastery.com/what-is-deep-learning/"
    },
    {
      "metadata": {
        "_kg_hide-input": true,
        "trusted": true,
        "_uuid": "2bc41a138e69a3d02acdfa46cd47ad2b4fcfa74e"
      },
      "cell_type": "code",
      "source": "import keras\nfrom keras.models import Sequential\nfrom keras.layers import Dense",
      "execution_count": 18,
      "outputs": [
        {
          "output_type": "stream",
          "text": "Using TensorFlow backend.\n",
          "name": "stderr"
        }
      ]
    },
    {
      "metadata": {
        "_kg_hide-input": true,
        "trusted": true,
        "_uuid": "93256144af33cc23c71dd8336f5622b2aab2ef90"
      },
      "cell_type": "code",
      "source": "from sklearn.preprocessing import StandardScaler, LabelBinarizer\nX = df[['SepalLengthCm', 'SepalWidthCm', 'PetalLengthCm', 'PetalWidthCm']]\ny = df['Species']\n\nX = StandardScaler().fit_transform(X)\ny = LabelBinarizer().fit_transform(y)",
      "execution_count": 19,
      "outputs": []
    },
    {
      "metadata": {
        "_uuid": "9df7b248a5352b8e2d0e1d9d3ed68d9a253c02e2"
      },
      "cell_type": "markdown",
      "source": "Spliting the data into train - 80% and test - 20%"
    },
    {
      "metadata": {
        "_kg_hide-input": true,
        "trusted": true,
        "_uuid": "8984cfef81f4e31db498376f5ca2bf72748faf13"
      },
      "cell_type": "code",
      "source": "x_train, x_test, y_train, y_test = train_test_split(X, y, test_size = 0.2, random_state = 42)",
      "execution_count": 20,
      "outputs": []
    },
    {
      "metadata": {
        "_uuid": "64eecf88ba78f8616345496654ab70a04019f698"
      },
      "cell_type": "markdown",
      "source": "**Deep learning**"
    },
    {
      "metadata": {
        "trusted": true,
        "_uuid": "77cded2a0a730f5a6c3717a10449c890e4195f73"
      },
      "cell_type": "code",
      "source": "deep_model = Sequential()\ndeep_model.add(Dense( 4, input_dim=4, activation = 'relu'))\ndeep_model.add(Dense( units = 100, activation= 'relu'))\ndeep_model.add(Dense( units = 100, activation= 'relu'))\ndeep_model.add(Dense( units = 100, activation= 'relu'))\ndeep_model.add(Dense( units = 100, activation= 'relu'))\ndeep_model.add(Dense( units = 100, activation= 'relu'))\ndeep_model.add(Dense( units = 100, activation= 'relu'))\ndeep_model.add(Dense( units = 100, activation= 'relu'))\ndeep_model.add(Dense( units = 100, activation= 'relu'))\ndeep_model.add(Dense( units = 3, activation= 'softmax'))\ndeep_model.compile(loss = 'categorical_crossentropy', optimizer = 'adam', metrics = ['accuracy'])\n",
      "execution_count": 21,
      "outputs": []
    },
    {
      "metadata": {
        "trusted": true,
        "_uuid": "4be5a0688349325ac9f08365c28265571770dfe0"
      },
      "cell_type": "code",
      "source": "deep_history = deep_model.fit(x_train, y_train, epochs = 100, validation_data = (x_test, y_test))",
      "execution_count": 22,
      "outputs": [
        {
          "output_type": "stream",
          "text": "Train on 120 samples, validate on 30 samples\nEpoch 1/100\n120/120 [==============================] - 1s 12ms/step - loss: 1.0881 - acc: 0.4417 - val_loss: 1.0510 - val_acc: 0.7000\nEpoch 2/100\n120/120 [==============================] - 0s 292us/step - loss: 1.0290 - acc: 0.6583 - val_loss: 0.9233 - val_acc: 0.7000\nEpoch 3/100\n120/120 [==============================] - 0s 297us/step - loss: 0.8841 - acc: 0.6583 - val_loss: 0.7049 - val_acc: 0.7000\nEpoch 4/100\n120/120 [==============================] - 0s 281us/step - loss: 0.6811 - acc: 0.6583 - val_loss: 0.4937 - val_acc: 0.7000\nEpoch 5/100\n120/120 [==============================] - 0s 287us/step - loss: 0.4879 - acc: 0.7083 - val_loss: 0.3887 - val_acc: 0.8333\nEpoch 6/100\n120/120 [==============================] - 0s 283us/step - loss: 0.4193 - acc: 0.8750 - val_loss: 0.3284 - val_acc: 0.8333\nEpoch 7/100\n120/120 [==============================] - 0s 299us/step - loss: 0.3478 - acc: 0.8250 - val_loss: 0.2704 - val_acc: 0.9000\nEpoch 8/100\n120/120 [==============================] - 0s 306us/step - loss: 0.2975 - acc: 0.8750 - val_loss: 0.2040 - val_acc: 0.9000\nEpoch 9/100\n120/120 [==============================] - 0s 308us/step - loss: 0.2378 - acc: 0.9167 - val_loss: 0.1592 - val_acc: 0.9667\nEpoch 10/100\n120/120 [==============================] - 0s 285us/step - loss: 0.2822 - acc: 0.8833 - val_loss: 0.1440 - val_acc: 0.9000\nEpoch 11/100\n120/120 [==============================] - 0s 296us/step - loss: 0.2005 - acc: 0.9333 - val_loss: 0.0797 - val_acc: 1.0000\nEpoch 12/100\n120/120 [==============================] - 0s 284us/step - loss: 0.1982 - acc: 0.9167 - val_loss: 0.1128 - val_acc: 0.9667\nEpoch 13/100\n120/120 [==============================] - 0s 286us/step - loss: 0.1395 - acc: 0.9500 - val_loss: 0.0565 - val_acc: 1.0000\nEpoch 14/100\n120/120 [==============================] - 0s 288us/step - loss: 0.1515 - acc: 0.9583 - val_loss: 0.0641 - val_acc: 0.9667\nEpoch 15/100\n120/120 [==============================] - 0s 273us/step - loss: 0.1777 - acc: 0.9167 - val_loss: 0.0627 - val_acc: 1.0000\nEpoch 16/100\n120/120 [==============================] - 0s 276us/step - loss: 0.1357 - acc: 0.9583 - val_loss: 0.0401 - val_acc: 1.0000\nEpoch 17/100\n120/120 [==============================] - 0s 297us/step - loss: 0.1208 - acc: 0.9500 - val_loss: 0.0727 - val_acc: 0.9667\nEpoch 18/100\n120/120 [==============================] - 0s 294us/step - loss: 0.1852 - acc: 0.9083 - val_loss: 0.0917 - val_acc: 0.9667\nEpoch 19/100\n120/120 [==============================] - 0s 294us/step - loss: 0.1446 - acc: 0.9417 - val_loss: 0.0499 - val_acc: 1.0000\nEpoch 20/100\n120/120 [==============================] - 0s 289us/step - loss: 0.1457 - acc: 0.9500 - val_loss: 0.0708 - val_acc: 0.9667\nEpoch 21/100\n120/120 [==============================] - 0s 276us/step - loss: 0.1346 - acc: 0.9333 - val_loss: 0.0838 - val_acc: 0.9667\nEpoch 22/100\n120/120 [==============================] - 0s 277us/step - loss: 0.0952 - acc: 0.9667 - val_loss: 0.0341 - val_acc: 1.0000\nEpoch 23/100\n120/120 [==============================] - 0s 286us/step - loss: 0.1370 - acc: 0.9500 - val_loss: 0.0311 - val_acc: 1.0000\nEpoch 24/100\n120/120 [==============================] - 0s 294us/step - loss: 0.0984 - acc: 0.9667 - val_loss: 0.0949 - val_acc: 0.9333\nEpoch 25/100\n120/120 [==============================] - 0s 299us/step - loss: 0.1088 - acc: 0.9417 - val_loss: 0.0506 - val_acc: 0.9667\nEpoch 26/100\n120/120 [==============================] - 0s 301us/step - loss: 0.0840 - acc: 0.9667 - val_loss: 0.0319 - val_acc: 1.0000\nEpoch 27/100\n120/120 [==============================] - 0s 285us/step - loss: 0.0876 - acc: 0.9667 - val_loss: 0.0340 - val_acc: 1.0000\nEpoch 28/100\n120/120 [==============================] - 0s 305us/step - loss: 0.0807 - acc: 0.9667 - val_loss: 0.0532 - val_acc: 0.9667\nEpoch 29/100\n120/120 [==============================] - 0s 291us/step - loss: 0.0778 - acc: 0.9583 - val_loss: 0.0384 - val_acc: 1.0000\nEpoch 30/100\n120/120 [==============================] - 0s 289us/step - loss: 0.0742 - acc: 0.9667 - val_loss: 0.0367 - val_acc: 1.0000\nEpoch 31/100\n120/120 [==============================] - 0s 278us/step - loss: 0.0726 - acc: 0.9667 - val_loss: 0.0378 - val_acc: 0.9667\nEpoch 32/100\n120/120 [==============================] - 0s 284us/step - loss: 0.0735 - acc: 0.9667 - val_loss: 0.0348 - val_acc: 0.9667\nEpoch 33/100\n120/120 [==============================] - 0s 296us/step - loss: 0.0721 - acc: 0.9667 - val_loss: 0.0515 - val_acc: 0.9667\nEpoch 34/100\n120/120 [==============================] - 0s 280us/step - loss: 0.0760 - acc: 0.9583 - val_loss: 0.0321 - val_acc: 1.0000\nEpoch 35/100\n120/120 [==============================] - 0s 289us/step - loss: 0.0684 - acc: 0.9750 - val_loss: 0.0418 - val_acc: 0.9667\nEpoch 36/100\n120/120 [==============================] - 0s 278us/step - loss: 0.0683 - acc: 0.9750 - val_loss: 0.0410 - val_acc: 0.9667\nEpoch 37/100\n120/120 [==============================] - 0s 282us/step - loss: 0.0698 - acc: 0.9667 - val_loss: 0.0425 - val_acc: 0.9667\nEpoch 38/100\n120/120 [==============================] - 0s 293us/step - loss: 0.0691 - acc: 0.9750 - val_loss: 0.0306 - val_acc: 1.0000\nEpoch 39/100\n120/120 [==============================] - 0s 285us/step - loss: 0.0693 - acc: 0.9750 - val_loss: 0.0540 - val_acc: 0.9667\nEpoch 40/100\n120/120 [==============================] - 0s 294us/step - loss: 0.0727 - acc: 0.9750 - val_loss: 0.0322 - val_acc: 1.0000\nEpoch 41/100\n120/120 [==============================] - 0s 286us/step - loss: 0.0648 - acc: 0.9750 - val_loss: 0.0409 - val_acc: 0.9667\nEpoch 42/100\n120/120 [==============================] - 0s 294us/step - loss: 0.0663 - acc: 0.9583 - val_loss: 0.0444 - val_acc: 0.9667\nEpoch 43/100\n120/120 [==============================] - 0s 294us/step - loss: 0.0665 - acc: 0.9667 - val_loss: 0.0443 - val_acc: 0.9667\nEpoch 44/100\n120/120 [==============================] - 0s 297us/step - loss: 0.0619 - acc: 0.9750 - val_loss: 0.0382 - val_acc: 0.9667\nEpoch 45/100\n120/120 [==============================] - 0s 287us/step - loss: 0.0642 - acc: 0.9750 - val_loss: 0.0392 - val_acc: 0.9667\nEpoch 46/100\n120/120 [==============================] - 0s 275us/step - loss: 0.0595 - acc: 0.9750 - val_loss: 0.0454 - val_acc: 0.9667\nEpoch 47/100\n120/120 [==============================] - 0s 279us/step - loss: 0.0611 - acc: 0.9750 - val_loss: 0.0401 - val_acc: 0.9667\nEpoch 48/100\n120/120 [==============================] - 0s 293us/step - loss: 0.0616 - acc: 0.9750 - val_loss: 0.0352 - val_acc: 0.9667\nEpoch 49/100\n120/120 [==============================] - 0s 310us/step - loss: 0.0581 - acc: 0.9750 - val_loss: 0.0495 - val_acc: 0.9667\nEpoch 50/100\n120/120 [==============================] - 0s 309us/step - loss: 0.0600 - acc: 0.9667 - val_loss: 0.0528 - val_acc: 0.9667\nEpoch 51/100\n120/120 [==============================] - 0s 291us/step - loss: 0.0621 - acc: 0.9667 - val_loss: 0.0401 - val_acc: 0.9667\nEpoch 52/100\n120/120 [==============================] - 0s 282us/step - loss: 0.0569 - acc: 0.9667 - val_loss: 0.0480 - val_acc: 0.9667\nEpoch 53/100\n120/120 [==============================] - 0s 279us/step - loss: 0.0587 - acc: 0.9667 - val_loss: 0.0400 - val_acc: 0.9667\nEpoch 54/100\n120/120 [==============================] - 0s 340us/step - loss: 0.0574 - acc: 0.9750 - val_loss: 0.0447 - val_acc: 0.9667\nEpoch 55/100\n120/120 [==============================] - 0s 285us/step - loss: 0.0629 - acc: 0.9583 - val_loss: 0.0445 - val_acc: 0.9667\nEpoch 56/100\n120/120 [==============================] - 0s 298us/step - loss: 0.0585 - acc: 0.9667 - val_loss: 0.0360 - val_acc: 0.9667\nEpoch 57/100\n120/120 [==============================] - 0s 275us/step - loss: 0.0661 - acc: 0.9667 - val_loss: 0.0608 - val_acc: 0.9667\nEpoch 58/100\n120/120 [==============================] - 0s 292us/step - loss: 0.0813 - acc: 0.9500 - val_loss: 0.0265 - val_acc: 1.0000\nEpoch 59/100\n120/120 [==============================] - 0s 282us/step - loss: 0.0554 - acc: 0.9750 - val_loss: 0.0597 - val_acc: 0.9667\nEpoch 60/100\n120/120 [==============================] - 0s 285us/step - loss: 0.0715 - acc: 0.9583 - val_loss: 0.0711 - val_acc: 0.9667\n",
          "name": "stdout"
        },
        {
          "output_type": "stream",
          "text": "Epoch 61/100\n120/120 [==============================] - 0s 289us/step - loss: 0.0645 - acc: 0.9583 - val_loss: 0.0343 - val_acc: 0.9667\nEpoch 62/100\n120/120 [==============================] - 0s 295us/step - loss: 0.0810 - acc: 0.9750 - val_loss: 0.0418 - val_acc: 0.9667\nEpoch 63/100\n120/120 [==============================] - 0s 277us/step - loss: 0.0560 - acc: 0.9583 - val_loss: 0.0790 - val_acc: 0.9667\nEpoch 64/100\n120/120 [==============================] - 0s 287us/step - loss: 0.0703 - acc: 0.9667 - val_loss: 0.0478 - val_acc: 0.9667\nEpoch 65/100\n120/120 [==============================] - 0s 301us/step - loss: 0.0731 - acc: 0.9667 - val_loss: 0.0272 - val_acc: 1.0000\nEpoch 66/100\n120/120 [==============================] - 0s 301us/step - loss: 0.0647 - acc: 0.9667 - val_loss: 0.0710 - val_acc: 0.9667\nEpoch 67/100\n120/120 [==============================] - 0s 307us/step - loss: 0.0698 - acc: 0.9583 - val_loss: 0.0587 - val_acc: 0.9667\nEpoch 68/100\n120/120 [==============================] - 0s 297us/step - loss: 0.0586 - acc: 0.9667 - val_loss: 0.0297 - val_acc: 1.0000\nEpoch 69/100\n120/120 [==============================] - 0s 282us/step - loss: 0.0688 - acc: 0.9750 - val_loss: 0.0396 - val_acc: 0.9667\nEpoch 70/100\n120/120 [==============================] - 0s 299us/step - loss: 0.0518 - acc: 0.9750 - val_loss: 0.0745 - val_acc: 0.9667\nEpoch 71/100\n120/120 [==============================] - 0s 277us/step - loss: 0.0658 - acc: 0.9583 - val_loss: 0.0449 - val_acc: 0.9667\nEpoch 72/100\n120/120 [==============================] - 0s 285us/step - loss: 0.0524 - acc: 0.9750 - val_loss: 0.0273 - val_acc: 1.0000\nEpoch 73/100\n120/120 [==============================] - 0s 288us/step - loss: 0.0604 - acc: 0.9750 - val_loss: 0.0387 - val_acc: 0.9667\nEpoch 74/100\n120/120 [==============================] - 0s 292us/step - loss: 0.0541 - acc: 0.9583 - val_loss: 0.0587 - val_acc: 0.9667\nEpoch 75/100\n120/120 [==============================] - 0s 289us/step - loss: 0.0572 - acc: 0.9583 - val_loss: 0.0423 - val_acc: 0.9667\nEpoch 76/100\n120/120 [==============================] - 0s 299us/step - loss: 0.0515 - acc: 0.9750 - val_loss: 0.0265 - val_acc: 0.9667\nEpoch 77/100\n120/120 [==============================] - 0s 307us/step - loss: 0.0595 - acc: 0.9667 - val_loss: 0.0413 - val_acc: 0.9667\nEpoch 78/100\n120/120 [==============================] - 0s 302us/step - loss: 0.0716 - acc: 0.9583 - val_loss: 0.0741 - val_acc: 0.9667\nEpoch 79/100\n120/120 [==============================] - 0s 285us/step - loss: 0.0581 - acc: 0.9667 - val_loss: 0.0347 - val_acc: 0.9667\nEpoch 80/100\n120/120 [==============================] - 0s 294us/step - loss: 0.0607 - acc: 0.9833 - val_loss: 0.0399 - val_acc: 0.9667\nEpoch 81/100\n120/120 [==============================] - 0s 297us/step - loss: 0.0566 - acc: 0.9667 - val_loss: 0.0644 - val_acc: 0.9667\nEpoch 82/100\n120/120 [==============================] - 0s 309us/step - loss: 0.0591 - acc: 0.9583 - val_loss: 0.0402 - val_acc: 0.9667\nEpoch 83/100\n120/120 [==============================] - 0s 290us/step - loss: 0.0531 - acc: 0.9750 - val_loss: 0.0424 - val_acc: 0.9667\nEpoch 84/100\n120/120 [==============================] - 0s 302us/step - loss: 0.0519 - acc: 0.9750 - val_loss: 0.0335 - val_acc: 0.9667\nEpoch 85/100\n120/120 [==============================] - 0s 307us/step - loss: 0.0520 - acc: 0.9750 - val_loss: 0.0382 - val_acc: 0.9667\nEpoch 86/100\n120/120 [==============================] - 0s 290us/step - loss: 0.0507 - acc: 0.9750 - val_loss: 0.0571 - val_acc: 0.9667\nEpoch 87/100\n120/120 [==============================] - 0s 293us/step - loss: 0.0586 - acc: 0.9667 - val_loss: 0.0418 - val_acc: 0.9667\nEpoch 88/100\n120/120 [==============================] - 0s 291us/step - loss: 0.0612 - acc: 0.9583 - val_loss: 0.0698 - val_acc: 0.9667\nEpoch 89/100\n120/120 [==============================] - 0s 291us/step - loss: 0.0536 - acc: 0.9667 - val_loss: 0.0311 - val_acc: 0.9667\nEpoch 90/100\n120/120 [==============================] - 0s 295us/step - loss: 0.0520 - acc: 0.9750 - val_loss: 0.0317 - val_acc: 0.9667\nEpoch 91/100\n120/120 [==============================] - 0s 296us/step - loss: 0.0531 - acc: 0.9667 - val_loss: 0.0482 - val_acc: 0.9667\nEpoch 92/100\n120/120 [==============================] - 0s 288us/step - loss: 0.0502 - acc: 0.9667 - val_loss: 0.0332 - val_acc: 0.9667\nEpoch 93/100\n120/120 [==============================] - 0s 296us/step - loss: 0.0471 - acc: 0.9750 - val_loss: 0.0453 - val_acc: 0.9667\nEpoch 94/100\n120/120 [==============================] - 0s 291us/step - loss: 0.0447 - acc: 0.9667 - val_loss: 0.0667 - val_acc: 0.9667\nEpoch 95/100\n120/120 [==============================] - 0s 283us/step - loss: 0.0506 - acc: 0.9667 - val_loss: 0.0366 - val_acc: 0.9667\nEpoch 96/100\n120/120 [==============================] - 0s 281us/step - loss: 0.0466 - acc: 0.9667 - val_loss: 0.0577 - val_acc: 0.9667\nEpoch 97/100\n120/120 [==============================] - 0s 281us/step - loss: 0.0443 - acc: 0.9667 - val_loss: 0.0366 - val_acc: 0.9667\nEpoch 98/100\n120/120 [==============================] - 0s 280us/step - loss: 0.0467 - acc: 0.9667 - val_loss: 0.1003 - val_acc: 0.9667\nEpoch 99/100\n120/120 [==============================] - 0s 293us/step - loss: 0.0576 - acc: 0.9667 - val_loss: 0.0455 - val_acc: 0.9667\nEpoch 100/100\n120/120 [==============================] - 0s 288us/step - loss: 0.0537 - acc: 0.9833 - val_loss: 0.0290 - val_acc: 1.0000\n",
          "name": "stdout"
        }
      ]
    },
    {
      "metadata": {
        "trusted": true,
        "_uuid": "700989a441f89101245ae099ebe528fe3f633431"
      },
      "cell_type": "code",
      "source": "plt.plot(deep_history.history['acc'])\nplt.plot(deep_history.history['val_acc'])\nplt.title(\"Accuracy\")\nplt.legend(['train', 'test'])\nplt.show()",
      "execution_count": 23,
      "outputs": [
        {
          "output_type": "display_data",
          "data": {
            "text/plain": "<Figure size 432x288 with 1 Axes>",
            "image/png": "[encoded data removed]"
          },
          "metadata": {
            "needs_background": "light"
          }
        }
      ]
    },
    {
      "metadata": {
        "trusted": true,
        "_uuid": "e11dd866567ce68bd5b4050d06793d33ae78a622"
      },
      "cell_type": "code",
      "source": "plt.plot(deep_history.history['loss'])\nplt.plot(deep_history.history['val_loss'])\nplt.title('Loss')\nplt.legend(['Train','Test'])\nplt.show()",
      "execution_count": 25,
      "outputs": [
        {
          "output_type": "display_data",
          "data": {
            "text/plain": "<Figure size 432x288 with 1 Axes>",
            "image/png": "[encoded data removed]"
          },
          "metadata": {
            "needs_background": "light"
          }
        }
      ]
    },
    {
      "metadata": {
        "_uuid": "c7bc4c3d21891be9ebed38cdd359b1963cf6d5aa"
      },
      "cell_type": "markdown",
      "source": "So our deep model is more accurate than the other models."
    },
    {
      "metadata": {
        "trusted": true,
        "_uuid": "c31866c872647caccbc1557a0e1ef39688c38cf6"
      },
      "cell_type": "code",
      "source": "",
      "execution_count": null,
      "outputs": []
    }
  ],
  "metadata": {
    "kernelspec": {
      "display_name": "Python 3",
      "language": "python",
      "name": "python3"
    },
    "language_info": {
      "name": "python",
      "version": "3.6.6",
      "mimetype": "text/x-python",
      "codemirror_mode": {
        "name": "ipython",
        "version": 3
      },
      "pygments_lexer": "ipython3",
      "nbconvert_exporter": "python",
      "file_extension": ".py"
    }
  },
  "nbformat": 4,
  "nbformat_minor": 1
}
